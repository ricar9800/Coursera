{
  "nbformat": 4,
  "nbformat_minor": 0,
  "metadata": {
    "colab": {
      "provenance": []
    },
    "kernelspec": {
      "name": "python3",
      "display_name": "Python 3"
    },
    "language_info": {
      "name": "python"
    }
  },
  "cells": [
    {
      "cell_type": "markdown",
      "source": [
        "# Data Science Tools and Ecosystem"
      ],
      "metadata": {
        "id": "4Kvg3uGGDNW6"
      }
    },
    {
      "cell_type": "markdown",
      "source": [
        "In this notebook, Data Science Tools and Ecosystem are summarized."
      ],
      "metadata": {
        "id": "1eOfLkOCD7sT"
      }
    },
    {
      "cell_type": "markdown",
      "source": [
        "**Objectives:**\n",
        "\n",
        "\n",
        "1.   List popular languages for Data Science\n",
        "2.   libraries used by Data Scientists\n",
        "3.   Data Science Tools\n",
        "\n",
        "\n",
        "\n",
        "\n"
      ],
      "metadata": {
        "id": "W_JKpH6c949w"
      }
    },
    {
      "cell_type": "markdown",
      "source": [
        "Some of the popular languages that Data Scientists use are:\n",
        "\n",
        "\n",
        "1.   Python\n",
        "2.   R\n",
        "3.   Java\n",
        "4.   Julia\n",
        "\n"
      ],
      "metadata": {
        "id": "DpVrnAkcEMUE"
      }
    },
    {
      "cell_type": "markdown",
      "source": [
        "Some of the commonly used libraries used by Data Scientists include:\n",
        "\n",
        "\n",
        "1.   Pandas\n",
        "2.   Numpy\n",
        "3.   ggplot\n",
        "4.   searbon\n",
        "\n",
        "\n",
        "\n"
      ],
      "metadata": {
        "id": "KfViR9JXEwX9"
      }
    },
    {
      "cell_type": "markdown",
      "source": [
        "|Data Science Tools|\n",
        "|-----------------|\n",
        "|Jupiter notebook |\n",
        "|Apache Hadoop |\n",
        "|Rstudio|\n",
        "|Google Colab|"
      ],
      "metadata": {
        "id": "pA338DJJF-PF"
      }
    },
    {
      "cell_type": "markdown",
      "source": [
        "### Below are a few examples of evaluating arithmetic expressions in Python\n",
        "A+B Suma\n",
        "\n",
        "A**B Potencia\n",
        "\n",
        "A-B Resta\n"
      ],
      "metadata": {
        "id": "r__WVE7oHx9p"
      }
    },
    {
      "cell_type": "code",
      "source": [
        "# This a simple arithmetic expression to mutiply then add integers\n",
        "\n",
        "(3*4)+5"
      ],
      "metadata": {
        "colab": {
          "base_uri": "https://localhost:8080/"
        },
        "id": "jyCxf4_HI02a",
        "outputId": "7d6a0a37-172c-4bac-d559-20b5df0059c6"
      },
      "execution_count": null,
      "outputs": [
        {
          "output_type": "execute_result",
          "data": {
            "text/plain": [
              "17"
            ]
          },
          "metadata": {},
          "execution_count": 1
        }
      ]
    },
    {
      "cell_type": "code",
      "source": [
        "# This will convert 200 minutes to hours by diving by 60\n",
        "\n",
        "200/60"
      ],
      "metadata": {
        "id": "Xp3rpPUtJPhW",
        "outputId": "42833a54-dacf-4c27-a2a6-47a7dd566066",
        "colab": {
          "base_uri": "https://localhost:8080/"
        }
      },
      "execution_count": null,
      "outputs": [
        {
          "output_type": "execute_result",
          "data": {
            "text/plain": [
              "3.3333333333333335"
            ]
          },
          "metadata": {},
          "execution_count": 2
        }
      ]
    },
    {
      "cell_type": "markdown",
      "source": [
        "##  Author\n",
        "\n",
        "Ricardo Quiñones"
      ],
      "metadata": {
        "id": "kvK1PNdIAnkv"
      }
    }
  ]
}